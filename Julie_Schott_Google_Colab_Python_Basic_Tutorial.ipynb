{
  "nbformat": 4,
  "nbformat_minor": 0,
  "metadata": {
    "colab": {
      "name": "Julie_Schott_Google_Colab_Python_Basic_Tutorial.ipynb",
      "provenance": [],
      "collapsed_sections": [],
      "include_colab_link": true
    },
    "kernelspec": {
      "name": "python3",
      "display_name": "Python 3"
    }
  },
  "cells": [
    {
      "cell_type": "markdown",
      "metadata": {
        "id": "view-in-github",
        "colab_type": "text"
      },
      "source": [
        "<a href=\"https://colab.research.google.com/github/w258y272/Julie-s-Homework/blob/main/Julie_Schott_Google_Colab_Python_Basic_Tutorial.ipynb\" target=\"_parent\"><img src=\"https://colab.research.google.com/assets/colab-badge.svg\" alt=\"Open In Colab\"/></a>"
      ]
    },
    {
      "cell_type": "markdown",
      "metadata": {
        "id": "qVWpCfZ1m9ZO"
      },
      "source": [
        "<p><img alt=\"Colaboratory logo\" height=\"45px\" src=\"/img/colab_favicon.ico\" align=\"left\" hspace=\"10px\" vspace=\"0px\"></p>\n",
        "\n",
        "<h1>Welcome to Google Colab (Colaboratory)!</h1>\n",
        "\n",
        "\n",
        "Google Colab is a free Jupyter notebook environment that requires no setup and runs entirely in the cloud.\n",
        "\n",
        "With Google Colab you can write and execute code, save and share your analyses, and access powerful computing resources, all for free from your browser."
      ]
    },
    {
      "cell_type": "markdown",
      "metadata": {
        "id": "EHRJYAr9m21L"
      },
      "source": [
        "## Getting Started\n",
        "\n",
        "The document you are reading is a  [Jupyter notebook](https://jupyter.org/), hosted in Google Colab. It is not a static page, but an interactive environment that lets you write and execute code in Python and other languages.\n",
        "\n",
        "For example, here is a **code cell** with a short Python script that prints *Hello World!!*\n",
        "\n",
        "Note: All the [blue underlined words](https://en.wikipedia.org/wiki/Hyperlink) are clickable and you can read more about a topic through them."
      ]
    },
    {
      "cell_type": "code",
      "metadata": {
        "id": "WD41cqyvnYuX",
        "colab": {
          "base_uri": "https://localhost:8080/"
        },
        "outputId": "ccf2648f-6325-4356-f544-1281a5d839d7"
      },
      "source": [
        "print('Hello World!!')"
      ],
      "execution_count": null,
      "outputs": [
        {
          "output_type": "stream",
          "name": "stdout",
          "text": [
            "Hello World!!\n"
          ]
        }
      ]
    },
    {
      "cell_type": "markdown",
      "metadata": {
        "id": "pMD80d8Qo68C"
      },
      "source": [
        "To execute the code in the above cell, select it with a click and then either press the play button to the left of the code, or use the keyboard shortcut \"Command/Ctrl+Enter\".\n",
        "\n",
        "All cells modify the same global state, so variables that you define by executing a cell can be used in other cells:\n",
        "\n",
        "---"
      ]
    },
    {
      "cell_type": "markdown",
      "metadata": {
        "id": "U3m1EK5deZ-3"
      },
      "source": [
        "Now to print a word/sentence (i.e. a string) we always use quotes to enclose it.\n",
        "Both single quotes and doubles would work."
      ]
    },
    {
      "cell_type": "code",
      "metadata": {
        "id": "M_1ythlXpfpF",
        "colab": {
          "base_uri": "https://localhost:8080/"
        },
        "outputId": "7ba5112f-0dc1-4654-8b5e-a99607db96d1"
      },
      "source": [
        "# The following print statement prints the single quote with the string we want to print\n",
        "print(\"Aman's car is blue.\")"
      ],
      "execution_count": null,
      "outputs": [
        {
          "output_type": "stream",
          "name": "stdout",
          "text": [
            "Aman's car is blue.\n"
          ]
        }
      ]
    },
    {
      "cell_type": "code",
      "metadata": {
        "id": "CxRxfQcUrBzg",
        "colab": {
          "base_uri": "https://localhost:8080/"
        },
        "outputId": "6970921d-9fdb-45dc-ef2a-7727ed92cb7c"
      },
      "source": [
        "# The following print statement prints the double quotes with the string we want to print\n",
        "print('The mechanic \"fixed\" my car, ')"
      ],
      "execution_count": null,
      "outputs": [
        {
          "output_type": "stream",
          "name": "stdout",
          "text": [
            "The mechanic \"fixed\" my car, \n"
          ]
        }
      ]
    },
    {
      "cell_type": "markdown",
      "metadata": {
        "id": "g1-g72tVLCyz"
      },
      "source": [
        "##Code Commenting\n",
        "\n",
        "Comments helps improve code readability, code refactoring and provides brief documentation about the code within the code cell."
      ]
    },
    {
      "cell_type": "code",
      "metadata": {
        "id": "Q0AAi2tWK-Rq"
      },
      "source": [
        "# This is a comment"
      ],
      "execution_count": null,
      "outputs": []
    },
    {
      "cell_type": "markdown",
      "metadata": {
        "id": "vjMTUguPdxvM"
      },
      "source": [
        "##Accessing your files (datasets, images, etc..) in Google Colab\n",
        "* Click on the folder icon on the left side, this will open up a section called **Files**\n",
        "* You'll see the option to upload files which can be used to perform operations on. But we'll look at that later."
      ]
    },
    {
      "cell_type": "markdown",
      "metadata": {
        "id": "akkNyP76Eicm"
      },
      "source": [
        "---\n",
        "## Variables and Literals in Python\n",
        "A variable is a named location used to store data in the memory. Here's an example:"
      ]
    },
    {
      "cell_type": "code",
      "metadata": {
        "id": "wGwEdqo3ElVA"
      },
      "source": [
        "a = 5"
      ],
      "execution_count": null,
      "outputs": []
    },
    {
      "cell_type": "markdown",
      "metadata": {
        "id": "vb8CPC4nEpQ9"
      },
      "source": [
        "Here, **a** is a variable and we have assigned **5** to variable **a**\n",
        "\n",
        "We do not need to define a variable type in Python. You can do something like this:"
      ]
    },
    {
      "cell_type": "code",
      "metadata": {
        "id": "RRInlM8yEucs",
        "colab": {
          "base_uri": "https://localhost:8080/"
        },
        "outputId": "90120ec0-3e87-4d1e-df8b-2cbaa0059459"
      },
      "source": [
        "a = 5\n",
        "print(\"a =\", 5)\n",
        "a = \"High five\"\n",
        "print(\"a =\", a)"
      ],
      "execution_count": null,
      "outputs": [
        {
          "output_type": "stream",
          "name": "stdout",
          "text": [
            "a = 5\n",
            "a = High five\n"
          ]
        }
      ]
    },
    {
      "cell_type": "markdown",
      "metadata": {
        "id": "JCH1EhkQJQEx"
      },
      "source": [
        "Initially, integer value **5** is assigned to the variable a. Then, the string **High five** is assigned to the same variable, this overwrites the previous value.\n",
        "\n",
        "By the way, **5** is a numeric literal and **High five** is a string literal.\n",
        "\n",
        "To learn more about variables and literals [click here](https://www.programiz.com/python-programming/variables-constants-literals)"
      ]
    },
    {
      "cell_type": "markdown",
      "metadata": {
        "id": "8cBW24WqE2n0"
      },
      "source": [
        "Now, you would have observed that the print function printed **a = 5**, but both of the values we entered were separated by a comma.\n"
      ]
    },
    {
      "cell_type": "markdown",
      "metadata": {
        "id": "R2pwlja0F-4K"
      },
      "source": [
        "To fix it we can also concatenate the values by type-casting (which will be discussed at the later point but [click here](https://www.geeksforgeeks.org/type-conversion-python/) if you want to read about it\n",
        "\n",
        "--- \n"
      ]
    },
    {
      "cell_type": "markdown",
      "metadata": {
        "id": "GmI4E6SXJ8mr"
      },
      "source": [
        "##Operators\n",
        "\n",
        "Operators are special symbols that carry out operations on operands (variables and values).\n",
        "\n",
        "**Arithmetic operators** are used to perform mathematical operations like *addition, subtraction, multiplication* etc."
      ]
    },
    {
      "cell_type": "code",
      "metadata": {
        "id": "Ej4zJEd-F-Gp"
      },
      "source": [
        "x = 14\n",
        "y = 4\n",
        "\n",
        "# Add two operands\n",
        "print('x + y =', x+y) # Output: x + y = 18\n",
        "\n",
        "# Subtract right operand from the left\n",
        "print('x - y =', x-y) # Output: x - y = 10\n",
        "\n",
        "# Multiply two operands\n",
        "print('x * y =', x*y) # Output: x * y = 56\n",
        "\n",
        "# Divide left operand by the right one \n",
        "print('x / y =', x/y) # Output: x / y = 3.5\n",
        "\n",
        "# Floor division (quotient)\n",
        "print('x // y =', x//y) # Output: x // y = 3\n",
        "\n",
        "# Remainder of the division of left operand by the right\n",
        "print('x % y =', x%y) # Output: x % y = 2\n",
        "\n",
        "# Left operand raised to the power of right (x^y)\n",
        "print('x ** y =', x**y) # Output: x ** y = 38416"
      ],
      "execution_count": null,
      "outputs": []
    },
    {
      "cell_type": "markdown",
      "metadata": {
        "id": "YS_7p4DRKOcq"
      },
      "source": [
        "**Assignment operators** are used to assign values to variables. You have already seen the use of the **=** operator. Let's try some more assignment operators."
      ]
    },
    {
      "cell_type": "code",
      "metadata": {
        "id": "645KaChBKDMf",
        "colab": {
          "base_uri": "https://localhost:8080/"
        },
        "outputId": "cc069f7f-89e2-4bce-ce56-9b4bc0a07631"
      },
      "source": [
        "x = 5\n",
        "\n",
        "# x += 5 ----> x = x + 5\n",
        "x += 5\n",
        "print(x) # Output: 10\n",
        "\n",
        "# x /= 5 ----> x = x / 5\n",
        "x /= 5\n",
        "print(x) # Output: 2.0\n",
        "\n",
        "# The notation used here are coding shortcuts."
      ],
      "execution_count": null,
      "outputs": [
        {
          "output_type": "stream",
          "name": "stdout",
          "text": [
            "10\n",
            "2.0\n"
          ]
        }
      ]
    },
    {
      "cell_type": "markdown",
      "metadata": {
        "id": "eURr8gKuKhsZ"
      },
      "source": [
        "Other commonly used assignment operators: -=, *=, %=, //= and **=.\n",
        "\n",
        "Visit [Python Operators](https://www.programiz.com/python-programming/operators) to learn about all operators in detail."
      ]
    },
    {
      "cell_type": "markdown",
      "metadata": {
        "id": "Ty18drDBK2hz"
      },
      "source": [
        "##Get Input from User\n",
        "\n",
        "In Python, you can use input() function to take input from user. For example:"
      ]
    },
    {
      "cell_type": "code",
      "metadata": {
        "id": "5TBLtYMFKd2y",
        "colab": {
          "base_uri": "https://localhost:8080/"
        },
        "outputId": "d4ddb938-99a1-43fa-deb3-430524762a05"
      },
      "source": [
        "inputString = input('Enter a sentence:')\n",
        "print('The inputted string is:', inputString)"
      ],
      "execution_count": null,
      "outputs": [
        {
          "output_type": "stream",
          "name": "stdout",
          "text": [
            "Enter a sentence:Julie Schott W258Y272\n",
            "The inputted string is: Julie Schott W258Y272\n"
          ]
        }
      ]
    },
    {
      "cell_type": "markdown",
      "metadata": {
        "id": "p000V8GbLm4O"
      },
      "source": [
        "##Python Numeric Types\n",
        "Python supports integers, floating point numbers and complex numbers. They are defined as int, float and complex class in Python. In addition to that, booleans: True and False are a subtype of integers.\n",
        "\n",
        "Below we have some basic numeric types. To read more about this topic [click here](https://docs.python.org/3/library/stdtypes.html#numeric-types-int-float-complex)"
      ]
    },
    {
      "cell_type": "code",
      "metadata": {
        "id": "BqC3EmEwLe4r",
        "colab": {
          "base_uri": "https://localhost:8080/"
        },
        "outputId": "1ba56523-28b7-4ad4-b959-7b9b21fa924f"
      },
      "source": [
        "# Output: <class 'int'>\n",
        "print(type(5))\n",
        "\n",
        "# Output: <class 'float'>\n",
        "print(type(5.0))\n",
        "\n",
        "# Output: <class 'complex'>\n",
        "c = 5 + 3j\n",
        "print(type(c))"
      ],
      "execution_count": null,
      "outputs": [
        {
          "output_type": "stream",
          "name": "stdout",
          "text": [
            "<class 'int'>\n",
            "<class 'float'>\n",
            "<class 'complex'>\n"
          ]
        }
      ]
    },
    {
      "cell_type": "markdown",
      "metadata": {
        "id": "OOoOqxR9N98V"
      },
      "source": [
        "## Python Data Structures\n",
        "Python offers a range of compound datatypes often referred to as sequences. You will learn about those built-in types in this section.\n",
        "\n",
        "### Lists\n",
        "A list is created by placing all the items (elements) inside a square bracket [] separated by commas.\n",
        "\n",
        "It can have any number of items and they may be of different types (integer, float, string etc.)"
      ]
    },
    {
      "cell_type": "code",
      "metadata": {
        "id": "7B5qKswTg9Ya",
        "colab": {
          "base_uri": "https://localhost:8080/"
        },
        "outputId": "f8ebc684-31d6-49a6-a496-9e15246615ff"
      },
      "source": [
        "# empty list\n",
        "my_list = []\n",
        "print(my_list)\n",
        "# list of integers\n",
        "my_list = [1, 2, 3]\n",
        "print(my_list)\n",
        "# list with mixed data types\n",
        "my_list = [1, \"Hello\", 3.4]\n",
        "print(my_list)"
      ],
      "execution_count": null,
      "outputs": [
        {
          "output_type": "stream",
          "name": "stdout",
          "text": [
            "[]\n",
            "[1, 2, 3]\n",
            "[1, 'Hello', 3.4]\n"
          ]
        }
      ]
    },
    {
      "cell_type": "markdown",
      "metadata": {
        "id": "MaOcwNCEOQsM"
      },
      "source": [
        "#### To access elements of a list, we use *indexes*. \n",
        "In computers the index value starts at **0** and ends at **n-1**, for any array with a size **n**"
      ]
    },
    {
      "cell_type": "code",
      "metadata": {
        "id": "VWlRI8EyOQYK",
        "colab": {
          "base_uri": "https://localhost:8080/"
        },
        "outputId": "70d2019a-e09b-4302-dad2-df9373dd42a8"
      },
      "source": [
        "language = [\"French\", \"German\", \"English\", \"Polish\"]\n",
        "\n",
        "# Accessing first element\n",
        "print(language[0])\n",
        "\n",
        "# Accessing the second element\n",
        "print(language[1])\n",
        "\n",
        "# Accessing fourth element\n",
        "print(language[3])\n",
        "\n"
      ],
      "execution_count": null,
      "outputs": [
        {
          "output_type": "stream",
          "name": "stdout",
          "text": [
            "French\n",
            "German\n",
            "Polish\n"
          ]
        }
      ]
    },
    {
      "cell_type": "markdown",
      "metadata": {
        "id": "pDNwqnexOxmK"
      },
      "source": [
        "Python also allows negative indexing for its sequences. The index of -1 refers to the last item, -2 to the second last item and so on.\n",
        "\n",
        "Read more about lists [here](https://docs.python.org/3/tutorial/datastructures.html)"
      ]
    },
    {
      "cell_type": "markdown",
      "metadata": {
        "id": "KUxF2YmRO7tG"
      },
      "source": [
        "### Tuples\n",
        "Tuple is similar to a list except you cannot change elements of a tuple once it is defined. Whereas in a list, items can be modified.\n",
        "\n",
        "Basically, list is mutable whereas tuple is immutable. You can access elements of a tuple in a similar way like a list.\n",
        "\n",
        "Read more about tuples [here](https://docs.python.org/3/tutorial/datastructures.html#tuples-and-sequences)"
      ]
    },
    {
      "cell_type": "code",
      "metadata": {
        "id": "tHv5doDbO4DW",
        "colab": {
          "base_uri": "https://localhost:8080/"
        },
        "outputId": "6929f4e1-116a-40f6-e03f-7bae09429fc7"
      },
      "source": [
        "language = (\"French\", \"German\", \"English\", \"Polish\")\n",
        "\n",
        "#Printing all the values from the tuple\n",
        "print(language)\n",
        "print(language)\n",
        "print(language[1]) # Output: German\n",
        "print(language[2]) # Output: Polish\n",
        "print(language[-1]) # Output: Polish"
      ],
      "execution_count": null,
      "outputs": [
        {
          "output_type": "stream",
          "name": "stdout",
          "text": [
            "('French', 'German', 'English', 'Polish')\n",
            "('French', 'German', 'English', 'Polish')\n",
            "German\n",
            "English\n",
            "Polish\n"
          ]
        }
      ]
    },
    {
      "cell_type": "markdown",
      "metadata": {
        "id": "t9sicBteP639"
      },
      "source": [
        "### String\n",
        "A string is a sequence of characters. Here are different ways to create a string."
      ]
    },
    {
      "cell_type": "code",
      "metadata": {
        "id": "H30UP8ZyPPfg",
        "colab": {
          "base_uri": "https://localhost:8080/"
        },
        "outputId": "c84cb8eb-3f18-4457-a9da-b82584e4aabd"
      },
      "source": [
        "# all of the following are equivalent\n",
        "my_string = 'Hello'\n",
        "print(my_string)\n",
        "\n",
        "my_string = \"Hello\"\n",
        "print(my_string)\n",
        "\n",
        "my_string = '''Hello'''\n",
        "print(my_string)\n",
        "\n",
        "# triple quotes string can extend multiple lines\n",
        "my_string = \"\"\"Hello, welcome to\n",
        "the world of Python\"\"\"\n",
        "print(my_string)"
      ],
      "execution_count": null,
      "outputs": [
        {
          "output_type": "stream",
          "name": "stdout",
          "text": [
            "Hello\n",
            "Hello\n",
            "Hello\n",
            "Hello, welcome to\n",
            "the world of Python\n"
          ]
        }
      ]
    },
    {
      "cell_type": "markdown",
      "metadata": {
        "id": "u2n19JAQQKa7"
      },
      "source": [
        "You can access individual characters of a string using indexing (in a similar manner like lists and tuples). This is also called **string slicing**."
      ]
    },
    {
      "cell_type": "code",
      "metadata": {
        "id": "wF89cM2zQD-Y",
        "colab": {
          "base_uri": "https://localhost:8080/"
        },
        "outputId": "a8aa5244-60ba-45e3-e3da-2fa28fdf2b68"
      },
      "source": [
        "str = 'Python tutorial'\n",
        "print('str = ', str)\n",
        "\n",
        "print('str[0] = ', str[0]) # Output: P\n",
        "\n",
        "print('str[-1] = ', str[-1]) # Output: l\n",
        "\n",
        "#slicing 2nd to 5th character i.e. include 2nd up to 5th but exclude the 5th \n",
        "print('str[1:5] = ', str[1:5]) # Output: ytho\n",
        "\n",
        "#slicing 6th to 2nd last character i.e. include 6th up to -2 but exclude the -2\n",
        "print('str[5:-2] = ', str[5:-2]) # Output: n tutori"
      ],
      "execution_count": null,
      "outputs": [
        {
          "output_type": "stream",
          "name": "stdout",
          "text": [
            "str =  Python tutorial\n",
            "str[0] =  P\n",
            "str[-1] =  l\n",
            "str[1:5] =  ytho\n",
            "str[5:-2] =  n tutori\n"
          ]
        }
      ]
    },
    {
      "cell_type": "markdown",
      "metadata": {
        "id": "0PGVpUufQWgj"
      },
      "source": [
        "Strings are **immutable**. You cannot change elements of a string once it is assigned. However, you can assign one string to another. Also, you can delete the string using del operator.\n",
        "\n",
        "Now we look at concatenation again!\n",
        "\n",
        "Concatenation is probably the most common string operation. To concatenate strings, you use **+** operator. Similarly, the * operator can be used to repeat the string for a given number of times."
      ]
    },
    {
      "cell_type": "code",
      "metadata": {
        "id": "1EtrMlC8QPvJ",
        "colab": {
          "base_uri": "https://localhost:8080/"
        },
        "outputId": "c1730a2d-ec01-499d-d6cf-bb1db670bca5"
      },
      "source": [
        "str1 = 'Hello '\n",
        "str2 = 'World!'\n",
        "\n",
        "# Output: Hello World!\n",
        "print(str1 + str2)\n",
        "\n",
        "# Hello Hello Hello\n",
        "print(str1 * 3)"
      ],
      "execution_count": null,
      "outputs": [
        {
          "output_type": "stream",
          "name": "stdout",
          "text": [
            "Hello World!\n",
            "Hello Hello Hello \n"
          ]
        }
      ]
    },
    {
      "cell_type": "markdown",
      "metadata": {
        "id": "WR7W--LSQh2b"
      },
      "source": [
        "#### Sets\n",
        "A set is an unordered collection of items where every element is unique (no duplicates)."
      ]
    },
    {
      "cell_type": "code",
      "metadata": {
        "id": "VxZyCpMQQdCC",
        "colab": {
          "base_uri": "https://localhost:8080/"
        },
        "outputId": "a2e3d9ae-c802-49bb-c63a-38a8393de358"
      },
      "source": [
        "# set of integers\n",
        "my_set = {1, 2, 3}\n",
        "print(my_set)\n",
        "\n",
        "# set of mixed datatypes\n",
        "my_set = {1.0, \"Hello\", (1, 2, 3)}\n",
        "print(my_set)"
      ],
      "execution_count": null,
      "outputs": [
        {
          "output_type": "stream",
          "name": "stdout",
          "text": [
            "{1, 2, 3}\n",
            "{'Hello', 1.0, (1, 2, 3)}\n"
          ]
        }
      ]
    },
    {
      "cell_type": "markdown",
      "metadata": {
        "id": "NShI932_Q9F3"
      },
      "source": [
        "Sets are mutable. You can add, remove and delete elements of a set. However, you cannot replace one item of a set with another as they are unordered and indexing has no meaning.\n",
        "\n",
        "We'll look at some commonly used set methods: add(), update() and remove()."
      ]
    },
    {
      "cell_type": "code",
      "metadata": {
        "id": "TKkRRKWyQlip",
        "colab": {
          "base_uri": "https://localhost:8080/"
        },
        "outputId": "239acc47-cf50-4eda-e369-568ab07765f6"
      },
      "source": [
        "# set of integers\n",
        "my_set = {1, 2, 3}\n",
        "\n",
        "my_set.add(4)\n",
        "print(my_set) # Output: {1, 2, 3, 4}\n",
        "\n",
        "my_set.add(2)\n",
        "print(my_set) # Output: {1, 2, 3, 4}\n",
        "\n",
        "my_set.remove(4)\n",
        "print(my_set) # Output: {1, 2, 3}"
      ],
      "execution_count": null,
      "outputs": [
        {
          "output_type": "stream",
          "name": "stdout",
          "text": [
            "{1, 2, 3, 4}\n",
            "{1, 2, 3, 4}\n",
            "{1, 2, 3}\n"
          ]
        }
      ]
    },
    {
      "cell_type": "markdown",
      "metadata": {
        "id": "oOwX36n8Dm6T"
      },
      "source": [
        "Let's try out some commonly used set operations. You'll notice these operations look like they can be used to solve probability questions.\n",
        "\n"
      ]
    },
    {
      "cell_type": "code",
      "metadata": {
        "id": "jcDBeJr5DegL",
        "colab": {
          "base_uri": "https://localhost:8080/"
        },
        "outputId": "e87042d0-8ffc-484a-d848-9bb8fb6d50e4"
      },
      "source": [
        "A = {1, 2, 3}\n",
        "B = {2, 3, 4, 5}\n",
        "\n",
        "# Equivalent to A.union(B) \n",
        "# Also equivalent to B.union(A)\n",
        "print(A | B) # Output: {1, 2, 3, 4, 5}\n",
        "\n",
        "# Equivalent to A.intersection(B)\n",
        "# Also equivalent to B.intersection(A)\n",
        "print (A & B) # Output: {2, 3}\n",
        "\n",
        "# Set Difference\n",
        "print (A - B) # Output: {1}\n"
      ],
      "execution_count": null,
      "outputs": [
        {
          "output_type": "stream",
          "name": "stdout",
          "text": [
            "{1, 2, 3, 4, 5}\n",
            "{2, 3}\n",
            "{1}\n"
          ]
        }
      ]
    },
    {
      "cell_type": "markdown",
      "metadata": {
        "id": "LWFipAm8D8fq"
      },
      "source": [
        "---\n",
        "### Dictionaries\n",
        "Dictionary is an unordered collection of items.<br>\n",
        "While other compound data types have only value as an element, a dictionary has a **key: value** pair. ([Read more here](https://docs.python.org/3/tutorial/datastructures.html#dictionaries))"
      ]
    },
    {
      "cell_type": "code",
      "metadata": {
        "id": "8kKWwySYEBRa",
        "colab": {
          "base_uri": "https://localhost:8080/"
        },
        "outputId": "094a4e9c-69db-4295-f239-e11e749e0de0"
      },
      "source": [
        "# empty dictionary\n",
        "my_dict = {}\n",
        "\n",
        "# dictionary with integer keys\n",
        "my_dict = {1: 'apple', 2: 'ball'}\n",
        "\n",
        "# dictionary with mixed keys\n",
        "my_dict = {'name': 'John', 1: [2, 4, 3]}\n",
        "print(my_dict)\n"
      ],
      "execution_count": null,
      "outputs": [
        {
          "output_type": "stream",
          "name": "stdout",
          "text": [
            "{'name': 'John', 1: [2, 4, 3]}\n"
          ]
        }
      ]
    },
    {
      "cell_type": "markdown",
      "metadata": {
        "id": "4i8YNLNDEcEs"
      },
      "source": [
        "To access value from a dictionary, we use the key. For example:"
      ]
    },
    {
      "cell_type": "code",
      "metadata": {
        "id": "WlJCYhnpEfwI",
        "colab": {
          "base_uri": "https://localhost:8080/"
        },
        "outputId": "42342ff6-529f-42b4-84e8-fb99f87d4d32"
      },
      "source": [
        "person_dictionary = {'name':'Jack', 'age': 26, 'salary': 4534.2}\n",
        "print(person_dictionary['age']) # Output: 26"
      ],
      "execution_count": null,
      "outputs": [
        {
          "output_type": "stream",
          "name": "stdout",
          "text": [
            "26\n"
          ]
        }
      ]
    },
    {
      "cell_type": "markdown",
      "metadata": {
        "id": "tEK0AZoZI1Kg"
      },
      "source": [
        "Here's how you can change, add or delete dictionary elements.<br>\n",
        "*Note: Deleting a dictionary means that it will be removed from the computer's memory*"
      ]
    },
    {
      "cell_type": "code",
      "metadata": {
        "id": "Ig-967HEI1s0",
        "colab": {
          "base_uri": "https://localhost:8080/"
        },
        "outputId": "2390af68-1066-489d-bf02-d4d90c5a912e"
      },
      "source": [
        "person = {'name':'Jack', 'age': 26}\n",
        "\n",
        "# Changing age to 36\n",
        "person['age'] = 36 \n",
        "print(person) # Output: {'name': 'Jack', 'age': 36}\n",
        "\n",
        "# Adding salary key, value pair\n",
        "person['salary'] = 4342.4\n",
        "print(person) # Output: {'name': 'Jack', 'age': 36, 'salary': 4342.4}\n",
        "\n",
        "# Deleting age\n",
        "del person['age']\n",
        "print(person) # Output: {'name': 'Jack', 'salary': 4342.4}\n",
        "\n",
        "# Deleting the entire dictionary\n",
        "del person"
      ],
      "execution_count": null,
      "outputs": [
        {
          "output_type": "stream",
          "name": "stdout",
          "text": [
            "{'name': 'Jack', 'age': 36}\n",
            "{'name': 'Jack', 'age': 36, 'salary': 4342.4}\n",
            "{'name': 'Jack', 'salary': 4342.4}\n"
          ]
        }
      ]
    },
    {
      "cell_type": "markdown",
      "metadata": {
        "id": "45iuViUTI5Hd"
      },
      "source": [
        "### range() function in Python\n",
        "\n",
        "\n",
        "*   range() returns an immutable sequence of numbers between the given start integer to the stop integer.\n",
        "*   The output is iterable and you can convert it to list, tuple, set and so on."
      ]
    },
    {
      "cell_type": "code",
      "metadata": {
        "id": "F6AepKcYKv4i",
        "colab": {
          "base_uri": "https://localhost:8080/"
        },
        "outputId": "3473c6af-17d7-4c62-92c9-5a2b5e4d7015"
      },
      "source": [
        "numbers = range(1, 6)\n",
        "\n",
        "print(numbers) # Output: range(1, 6)\n",
        "\n",
        "print(list(numbers)) # Output: [1, 2, 3, 4, 5]\n",
        "print(tuple(numbers)) # Output: (1, 2, 3, 4, 5)\n",
        "print(set(numbers)) # Output: {1, 2, 3, 4, 5}\n",
        "\n",
        "print(dict.fromkeys(numbers, 99)) # Output: {1: 99, 2: 99, 3: 99, 4: 99, 5: 99} "
      ],
      "execution_count": null,
      "outputs": [
        {
          "output_type": "stream",
          "name": "stdout",
          "text": [
            "range(1, 6)\n",
            "[1, 2, 3, 4, 5]\n",
            "(1, 2, 3, 4, 5)\n",
            "{1, 2, 3, 4, 5}\n",
            "{1: 99, 2: 99, 3: 99, 4: 99, 5: 99}\n"
          ]
        }
      ]
    },
    {
      "cell_type": "markdown",
      "metadata": {
        "id": "sxhJ4ji1fmCq"
      },
      "source": [
        "## Python Control Flow\n",
        "###if...else Statement\n",
        "The if...else statement is used if you want to perform different action (run different code) on different condition."
      ]
    },
    {
      "cell_type": "code",
      "metadata": {
        "id": "sEZZFqnOfl23",
        "colab": {
          "base_uri": "https://localhost:8080/"
        },
        "outputId": "182ad3ad-2249-4c23-c332-a974e6e10c23"
      },
      "source": [
        "# num = -1\n",
        "\n",
        "num= 0\n",
        "\n",
        "if num > 0:\n",
        "    print(\"Positive number\")\n",
        "elif num == 0:\n",
        "    print(\"Zero\")\n",
        "else:\n",
        "    print(\"Negative number\")\n",
        "    \n",
        "    \n",
        "# Output: Negative number"
      ],
      "execution_count": null,
      "outputs": [
        {
          "output_type": "stream",
          "name": "stdout",
          "text": [
            "Zero\n"
          ]
        }
      ]
    },
    {
      "cell_type": "markdown",
      "metadata": {
        "id": "VhNgwvRbfr1G"
      },
      "source": [
        "####Change the value to another number for variable **num**, you will see different results.\n",
        "---\n",
        "There can be zero or more elif parts, and the else part is optional.\n",
        "\n",
        "* Most programming languages use {} to specify the block of code. Python uses indentation.\n",
        "\n",
        "* A code block starts with indentation and ends with the first unindented line. The amount of indentation is up to you, but it must be consistent throughout that block.\n",
        "\n",
        "* Generally, four whitespace is used for indentation and is preferred over tabs.\n",
        "\n"
      ]
    },
    {
      "cell_type": "markdown",
      "metadata": {
        "id": "5DHMfY91glJS"
      },
      "source": [
        "## Looping in Python\n",
        "* **while Loop** - Like most programming languages, while loop is used to iterate over a block of code as long as the test expression (condition) is true.\n",
        "\n",
        "[Read more about control flow here](https://docs.python.org/3/tutorial/controlflow.html)"
      ]
    },
    {
      "cell_type": "code",
      "metadata": {
        "id": "JQW2AL8Zde34",
        "colab": {
          "base_uri": "https://localhost:8080/"
        },
        "outputId": "4e161723-d334-42b6-bdfa-1ea4d33b2149"
      },
      "source": [
        "n = 100\n",
        "\n",
        "# initialize sum and counter\n",
        "sum = 0\n",
        "i = 1\n",
        "\n",
        "while i <= n:\n",
        "    sum = sum + i\n",
        "    i = i+1    # update counter\n",
        "\n",
        "print(\"The sum is\", sum)\n",
        "\n",
        "# Output: The sum is 5050"
      ],
      "execution_count": null,
      "outputs": [
        {
          "output_type": "stream",
          "name": "stdout",
          "text": [
            "The sum is 5050\n"
          ]
        }
      ]
    },
    {
      "cell_type": "markdown",
      "metadata": {
        "id": "qkkcC1j3hEox"
      },
      "source": [
        "##Functions in Python\n",
        "A function is a group of related statements that perform a specific task. We will use the `def` keyword to create functions in Python. We use functions for re-usability of code"
      ]
    },
    {
      "cell_type": "code",
      "metadata": {
        "id": "go63svdNhNeY",
        "colab": {
          "base_uri": "https://localhost:8080/"
        },
        "outputId": "54589c49-f81f-4cfc-806b-b4b115b5dac6"
      },
      "source": [
        "def print_lines():\n",
        "  print(\"I am line 1.\")\n",
        "  print(\"I am line 2.\")\n",
        "\n",
        "# function call\n",
        "print_lines()"
      ],
      "execution_count": null,
      "outputs": [
        {
          "output_type": "stream",
          "name": "stdout",
          "text": [
            "I am line 1.\n",
            "I am line 2.\n"
          ]
        }
      ]
    },
    {
      "cell_type": "markdown",
      "metadata": {
        "id": "gP0c_H_thYzK"
      },
      "source": [
        "A function can accept arguments and also return a value"
      ]
    },
    {
      "cell_type": "code",
      "metadata": {
        "id": "50uqe5BLhTOp",
        "colab": {
          "base_uri": "https://localhost:8080/"
        },
        "outputId": "079b461b-1c32-45e0-a82d-1bb7e8a1b600"
      },
      "source": [
        "def add_numbers(a, b):\n",
        "  sum = a + b\n",
        "  return sum\n",
        "\n",
        "result = add_numbers(4, 5)\n",
        "print(result)\n",
        "\n",
        "# Output: 9"
      ],
      "execution_count": null,
      "outputs": [
        {
          "output_type": "stream",
          "name": "stdout",
          "text": [
            "9\n"
          ]
        }
      ]
    },
    {
      "cell_type": "code",
      "source": [
        ""
      ],
      "metadata": {
        "id": "66XEwOSeawMf"
      },
      "execution_count": null,
      "outputs": []
    }
  ]
}