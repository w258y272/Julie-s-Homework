{
  "nbformat": 4,
  "nbformat_minor": 0,
  "metadata": {
    "colab": {
      "name": "Julie_Schott_Project_Template.ipynb",
      "provenance": [],
      "collapsed_sections": [],
      "include_colab_link": true
    },
    "kernelspec": {
      "name": "python3",
      "display_name": "Python 3"
    }
  },
  "cells": [
    {
      "cell_type": "markdown",
      "metadata": {
        "id": "view-in-github",
        "colab_type": "text"
      },
      "source": [
        "<a href=\"https://colab.research.google.com/github/w258y272/Julie-s-Homework/blob/main/Julie_Schott_Project_Template.ipynb\" target=\"_parent\"><img src=\"https://colab.research.google.com/assets/colab-badge.svg\" alt=\"Open In Colab\"/></a>"
      ]
    },
    {
      "cell_type": "markdown",
      "metadata": {
        "id": "BzHkQ2BaAkPJ"
      },
      "source": [
        "# Welcome to the Python Project Template Tutorial\n",
        "This tutorial will describe how to run a Python Project on a sample data set. We searched and found some interesting Projects with an accompanying Data Set. \n",
        "Below are step by step instructions, regardless of the project."
      ]
    },
    {
      "cell_type": "markdown",
      "metadata": {
        "id": "Me8p6CR8G7qt"
      },
      "source": [
        "**Step 1: Import Libraries Relevant to your Project**\n"
      ]
    },
    {
      "cell_type": "markdown",
      "metadata": {
        "id": "hXXsz2SUJPfY"
      },
      "source": [
        "You learned about select libraries in Python in the <u>**Python Basics** tutorial</u>\n",
        "\n",
        "Libraries are a very powerful way of implementing a common code block into your project custom code to achieve an objective.\n",
        "\n",
        "Let's look at how to *import a library* in our code. Let us import the **[os](https://docs.python.org/3/library/os.html)** library followed by the **[pandas](https://pandas.pydata.org/)** library."
      ]
    },
    {
      "cell_type": "code",
      "metadata": {
        "id": "Iuwi_Zqt6ZgX"
      },
      "source": [
        "# The following line will import the OS library in your code, \n",
        "# and we can use it to access the files on your system.\n",
        "import os"
      ],
      "execution_count": null,
      "outputs": []
    },
    {
      "cell_type": "code",
      "metadata": {
        "id": "5YbfExQiB2HW"
      },
      "source": [
        "# The following line will import the PANDAS library in our code\n",
        "# and we can use it to access high performance data structures and data analysis tools.\n",
        "import pandas as pd"
      ],
      "execution_count": null,
      "outputs": []
    },
    {
      "cell_type": "markdown",
      "metadata": {
        "id": "aQ282I1z_Ojw"
      },
      "source": [
        "\n",
        "- You will notice that we used a different notation for the pandas library `as pd`. <br>\n",
        "- This means  we can use the alias pd as a variable to access the pandas library\n",
        "\n",
        "- This shortcut comes in very handy when you have to write code to access the same library multiple times\n"
      ]
    },
    {
      "cell_type": "markdown",
      "metadata": {
        "id": "9P962SSUKX3d"
      },
      "source": [
        "Since python won't confirm if you've imported a library, we can use the following command to check if it was imported and what the version of it is\n",
        "using `library name.__version__`\n"
      ]
    },
    {
      "cell_type": "code",
      "metadata": {
        "id": "qogegfw__Ojr",
        "colab": {
          "base_uri": "https://localhost:8080/",
          "height": 35
        },
        "outputId": "cba38268-764a-4da4-a7ea-b50a451d8969"
      },
      "source": [
        "## Let's run the check for the pandas library\n",
        "# Remember we use pd to access pandas\n",
        "pd.__version__"
      ],
      "execution_count": null,
      "outputs": [
        {
          "output_type": "execute_result",
          "data": {
            "text/plain": [
              "'1.3.5'"
            ],
            "application/vnd.google.colaboratory.intrinsic+json": {
              "type": "string"
            }
          },
          "metadata": {},
          "execution_count": 3
        }
      ]
    },
    {
      "cell_type": "markdown",
      "metadata": {
        "id": "Jd5UJwzX_Oj7"
      },
      "source": [
        "\n",
        "Data-sets we use in this course will be only in [CSV (Comma Separated Values)](https://docs.python.org/3/library/csv.html) format. \n",
        "The data is in a tabular format, but each value in a row will be separated by a comma."
      ]
    },
    {
      "cell_type": "markdown",
      "metadata": {
        "id": "7C5goF419zxn"
      },
      "source": [
        "**Step 2: Import the Data Set into Google Colab**\n"
      ]
    },
    {
      "cell_type": "markdown",
      "metadata": {
        "id": "NZ3hgMJQ_Oj4"
      },
      "source": [
        "\n",
        "Look for this symbol <img alt=\"Folder Icon\" src=\"https://imgur.com/VFR7y0c.jpg\"> on the left panel, and click it.\n",
        "\n",
        "A new pane called **Files** would open up, and it will show you a folder where you can store the datasets you would work on. <br>\n",
        "Double Click on Files and import the CSV file provided to you called test_data_set.csv <br>\n",
        "Click the **Upload** button under the **Files** pane and select the CSV file. Click the refresh button on the **Files** pane <br>\n",
        "You should see the file under the **sample_data** folder <br>\n",
        "Note: **sample_data** folder is present in all the Google Colab notebooks, and if you open it by clicking the arrow next to it, you can see it has many CSV files as well"
      ]
    },
    {
      "cell_type": "markdown",
      "metadata": {
        "id": "28aGfF4s_Oj5"
      },
      "source": [
        "For example,\n",
        "the data set below test_data_set_csv.csv, if saved with a CSV extension, will have the first line containing the field names, followed by all the records. The fields in each record (row) are sepearted by a comma. \n",
        "\n",
        "**Name,Age,Gender**<br>\n",
        "Brie,25,Female<br>\n",
        "John,40,Male<br>\n",
        "Rex,35,Male<br>\n",
        "Maria,38,Female<br>\n",
        "\n",
        "\n"
      ]
    },
    {
      "cell_type": "markdown",
      "metadata": {
        "id": "GyfEuOPnfvMH"
      },
      "source": [
        "FIRST, we need to transform the data from the format above to a CVS file with each field in a seperate column. To do that, open the test_data_set_csv.csv file above in Excel. Use the **Data > Text to Columns** and follow the instructions to get the same information but with each field in a seperate columns. Save the file as **test_data_set_columns.csv**"
      ]
    },
    {
      "cell_type": "markdown",
      "metadata": {
        "id": "agm1MJLHK90n"
      },
      "source": [
        "**Step 3: Import the data set into a variable called data_1**\n"
      ]
    },
    {
      "cell_type": "code",
      "metadata": {
        "id": "bwv3AQ4r_Ojx",
        "colab": {
          "base_uri": "https://localhost:8080/",
          "height": 174
        },
        "outputId": "3fbb2f11-2d47-4f53-f199-13c3b705193b"
      },
      "source": [
        "## Importing the data-set in a variable called data_1\n",
        "data_1 = pd.read_csv(\"test_data_set.csv\")\n",
        "\n",
        "## Showing a snapshot of the data\n",
        "data_1.head()"
      ],
      "execution_count": null,
      "outputs": [
        {
          "output_type": "execute_result",
          "data": {
            "text/plain": [
              "    Name  Age  Gender\n",
              "0   Brie   25  Female\n",
              "1   John   40    Male\n",
              "2    Rex   35    Male\n",
              "3  Maria   38  Female"
            ],
            "text/html": [
              "\n",
              "  <div id=\"df-59222f6f-d438-461f-ad09-2112bda9cb52\">\n",
              "    <div class=\"colab-df-container\">\n",
              "      <div>\n",
              "<style scoped>\n",
              "    .dataframe tbody tr th:only-of-type {\n",
              "        vertical-align: middle;\n",
              "    }\n",
              "\n",
              "    .dataframe tbody tr th {\n",
              "        vertical-align: top;\n",
              "    }\n",
              "\n",
              "    .dataframe thead th {\n",
              "        text-align: right;\n",
              "    }\n",
              "</style>\n",
              "<table border=\"1\" class=\"dataframe\">\n",
              "  <thead>\n",
              "    <tr style=\"text-align: right;\">\n",
              "      <th></th>\n",
              "      <th>Name</th>\n",
              "      <th>Age</th>\n",
              "      <th>Gender</th>\n",
              "    </tr>\n",
              "  </thead>\n",
              "  <tbody>\n",
              "    <tr>\n",
              "      <th>0</th>\n",
              "      <td>Brie</td>\n",
              "      <td>25</td>\n",
              "      <td>Female</td>\n",
              "    </tr>\n",
              "    <tr>\n",
              "      <th>1</th>\n",
              "      <td>John</td>\n",
              "      <td>40</td>\n",
              "      <td>Male</td>\n",
              "    </tr>\n",
              "    <tr>\n",
              "      <th>2</th>\n",
              "      <td>Rex</td>\n",
              "      <td>35</td>\n",
              "      <td>Male</td>\n",
              "    </tr>\n",
              "    <tr>\n",
              "      <th>3</th>\n",
              "      <td>Maria</td>\n",
              "      <td>38</td>\n",
              "      <td>Female</td>\n",
              "    </tr>\n",
              "  </tbody>\n",
              "</table>\n",
              "</div>\n",
              "      <button class=\"colab-df-convert\" onclick=\"convertToInteractive('df-59222f6f-d438-461f-ad09-2112bda9cb52')\"\n",
              "              title=\"Convert this dataframe to an interactive table.\"\n",
              "              style=\"display:none;\">\n",
              "        \n",
              "  <svg xmlns=\"http://www.w3.org/2000/svg\" height=\"24px\"viewBox=\"0 0 24 24\"\n",
              "       width=\"24px\">\n",
              "    <path d=\"M0 0h24v24H0V0z\" fill=\"none\"/>\n",
              "    <path d=\"M18.56 5.44l.94 2.06.94-2.06 2.06-.94-2.06-.94-.94-2.06-.94 2.06-2.06.94zm-11 1L8.5 8.5l.94-2.06 2.06-.94-2.06-.94L8.5 2.5l-.94 2.06-2.06.94zm10 10l.94 2.06.94-2.06 2.06-.94-2.06-.94-.94-2.06-.94 2.06-2.06.94z\"/><path d=\"M17.41 7.96l-1.37-1.37c-.4-.4-.92-.59-1.43-.59-.52 0-1.04.2-1.43.59L10.3 9.45l-7.72 7.72c-.78.78-.78 2.05 0 2.83L4 21.41c.39.39.9.59 1.41.59.51 0 1.02-.2 1.41-.59l7.78-7.78 2.81-2.81c.8-.78.8-2.07 0-2.86zM5.41 20L4 18.59l7.72-7.72 1.47 1.35L5.41 20z\"/>\n",
              "  </svg>\n",
              "      </button>\n",
              "      \n",
              "  <style>\n",
              "    .colab-df-container {\n",
              "      display:flex;\n",
              "      flex-wrap:wrap;\n",
              "      gap: 12px;\n",
              "    }\n",
              "\n",
              "    .colab-df-convert {\n",
              "      background-color: #E8F0FE;\n",
              "      border: none;\n",
              "      border-radius: 50%;\n",
              "      cursor: pointer;\n",
              "      display: none;\n",
              "      fill: #1967D2;\n",
              "      height: 32px;\n",
              "      padding: 0 0 0 0;\n",
              "      width: 32px;\n",
              "    }\n",
              "\n",
              "    .colab-df-convert:hover {\n",
              "      background-color: #E2EBFA;\n",
              "      box-shadow: 0px 1px 2px rgba(60, 64, 67, 0.3), 0px 1px 3px 1px rgba(60, 64, 67, 0.15);\n",
              "      fill: #174EA6;\n",
              "    }\n",
              "\n",
              "    [theme=dark] .colab-df-convert {\n",
              "      background-color: #3B4455;\n",
              "      fill: #D2E3FC;\n",
              "    }\n",
              "\n",
              "    [theme=dark] .colab-df-convert:hover {\n",
              "      background-color: #434B5C;\n",
              "      box-shadow: 0px 1px 3px 1px rgba(0, 0, 0, 0.15);\n",
              "      filter: drop-shadow(0px 1px 2px rgba(0, 0, 0, 0.3));\n",
              "      fill: #FFFFFF;\n",
              "    }\n",
              "  </style>\n",
              "\n",
              "      <script>\n",
              "        const buttonEl =\n",
              "          document.querySelector('#df-59222f6f-d438-461f-ad09-2112bda9cb52 button.colab-df-convert');\n",
              "        buttonEl.style.display =\n",
              "          google.colab.kernel.accessAllowed ? 'block' : 'none';\n",
              "\n",
              "        async function convertToInteractive(key) {\n",
              "          const element = document.querySelector('#df-59222f6f-d438-461f-ad09-2112bda9cb52');\n",
              "          const dataTable =\n",
              "            await google.colab.kernel.invokeFunction('convertToInteractive',\n",
              "                                                     [key], {});\n",
              "          if (!dataTable) return;\n",
              "\n",
              "          const docLinkHtml = 'Like what you see? Visit the ' +\n",
              "            '<a target=\"_blank\" href=https://colab.research.google.com/notebooks/data_table.ipynb>data table notebook</a>'\n",
              "            + ' to learn more about interactive tables.';\n",
              "          element.innerHTML = '';\n",
              "          dataTable['output_type'] = 'display_data';\n",
              "          await google.colab.output.renderOutput(dataTable, element);\n",
              "          const docLink = document.createElement('div');\n",
              "          docLink.innerHTML = docLinkHtml;\n",
              "          element.appendChild(docLink);\n",
              "        }\n",
              "      </script>\n",
              "    </div>\n",
              "  </div>\n",
              "  "
            ]
          },
          "metadata": {},
          "execution_count": 9
        }
      ]
    },
    {
      "cell_type": "markdown",
      "metadata": {
        "id": "8_94WCiJ_Ojc"
      },
      "source": [
        " First we look at `data_1 = pd.read_csv('test_data_set.csv')`\n",
        "- `data_1` is the variable which points to the memory location where the data is loaded.\n",
        "- `pd.read_csv('test_data_set.csv')` read_csv is the function provided by **pandas** to access and read a CSV file\n",
        "- And then we put the file name of our CSV file within single quotes in the brackets of read_csv() function\n",
        "\n",
        "Next, let's look at `data_1.head()`\n",
        "- We are using the `head()` function to print the first 5 rows in the CSV file.\n",
        "\n"
      ]
    },
    {
      "cell_type": "markdown",
      "metadata": {
        "id": "0VkGgYgo_Oja"
      },
      "source": [
        "**Step 4: Do Basic Analysis on the Data**\n"
      ]
    },
    {
      "cell_type": "code",
      "metadata": {
        "id": "ro3UR9JB_OjV",
        "colab": {
          "base_uri": "https://localhost:8080/",
          "height": 300
        },
        "outputId": "c3bd1e86-e2cc-45a7-9296-fd61d403bbc2"
      },
      "source": [
        "## Run a basic analysis on the data-set\n",
        "data_1.describe()"
      ],
      "execution_count": null,
      "outputs": [
        {
          "output_type": "execute_result",
          "data": {
            "text/plain": [
              "             Age\n",
              "count   4.000000\n",
              "mean   34.500000\n",
              "std     6.658328\n",
              "min    25.000000\n",
              "25%    32.500000\n",
              "50%    36.500000\n",
              "75%    38.500000\n",
              "max    40.000000"
            ],
            "text/html": [
              "\n",
              "  <div id=\"df-5b3d5547-6b4a-499d-a705-8619977cc329\">\n",
              "    <div class=\"colab-df-container\">\n",
              "      <div>\n",
              "<style scoped>\n",
              "    .dataframe tbody tr th:only-of-type {\n",
              "        vertical-align: middle;\n",
              "    }\n",
              "\n",
              "    .dataframe tbody tr th {\n",
              "        vertical-align: top;\n",
              "    }\n",
              "\n",
              "    .dataframe thead th {\n",
              "        text-align: right;\n",
              "    }\n",
              "</style>\n",
              "<table border=\"1\" class=\"dataframe\">\n",
              "  <thead>\n",
              "    <tr style=\"text-align: right;\">\n",
              "      <th></th>\n",
              "      <th>Age</th>\n",
              "    </tr>\n",
              "  </thead>\n",
              "  <tbody>\n",
              "    <tr>\n",
              "      <th>count</th>\n",
              "      <td>4.000000</td>\n",
              "    </tr>\n",
              "    <tr>\n",
              "      <th>mean</th>\n",
              "      <td>34.500000</td>\n",
              "    </tr>\n",
              "    <tr>\n",
              "      <th>std</th>\n",
              "      <td>6.658328</td>\n",
              "    </tr>\n",
              "    <tr>\n",
              "      <th>min</th>\n",
              "      <td>25.000000</td>\n",
              "    </tr>\n",
              "    <tr>\n",
              "      <th>25%</th>\n",
              "      <td>32.500000</td>\n",
              "    </tr>\n",
              "    <tr>\n",
              "      <th>50%</th>\n",
              "      <td>36.500000</td>\n",
              "    </tr>\n",
              "    <tr>\n",
              "      <th>75%</th>\n",
              "      <td>38.500000</td>\n",
              "    </tr>\n",
              "    <tr>\n",
              "      <th>max</th>\n",
              "      <td>40.000000</td>\n",
              "    </tr>\n",
              "  </tbody>\n",
              "</table>\n",
              "</div>\n",
              "      <button class=\"colab-df-convert\" onclick=\"convertToInteractive('df-5b3d5547-6b4a-499d-a705-8619977cc329')\"\n",
              "              title=\"Convert this dataframe to an interactive table.\"\n",
              "              style=\"display:none;\">\n",
              "        \n",
              "  <svg xmlns=\"http://www.w3.org/2000/svg\" height=\"24px\"viewBox=\"0 0 24 24\"\n",
              "       width=\"24px\">\n",
              "    <path d=\"M0 0h24v24H0V0z\" fill=\"none\"/>\n",
              "    <path d=\"M18.56 5.44l.94 2.06.94-2.06 2.06-.94-2.06-.94-.94-2.06-.94 2.06-2.06.94zm-11 1L8.5 8.5l.94-2.06 2.06-.94-2.06-.94L8.5 2.5l-.94 2.06-2.06.94zm10 10l.94 2.06.94-2.06 2.06-.94-2.06-.94-.94-2.06-.94 2.06-2.06.94z\"/><path d=\"M17.41 7.96l-1.37-1.37c-.4-.4-.92-.59-1.43-.59-.52 0-1.04.2-1.43.59L10.3 9.45l-7.72 7.72c-.78.78-.78 2.05 0 2.83L4 21.41c.39.39.9.59 1.41.59.51 0 1.02-.2 1.41-.59l7.78-7.78 2.81-2.81c.8-.78.8-2.07 0-2.86zM5.41 20L4 18.59l7.72-7.72 1.47 1.35L5.41 20z\"/>\n",
              "  </svg>\n",
              "      </button>\n",
              "      \n",
              "  <style>\n",
              "    .colab-df-container {\n",
              "      display:flex;\n",
              "      flex-wrap:wrap;\n",
              "      gap: 12px;\n",
              "    }\n",
              "\n",
              "    .colab-df-convert {\n",
              "      background-color: #E8F0FE;\n",
              "      border: none;\n",
              "      border-radius: 50%;\n",
              "      cursor: pointer;\n",
              "      display: none;\n",
              "      fill: #1967D2;\n",
              "      height: 32px;\n",
              "      padding: 0 0 0 0;\n",
              "      width: 32px;\n",
              "    }\n",
              "\n",
              "    .colab-df-convert:hover {\n",
              "      background-color: #E2EBFA;\n",
              "      box-shadow: 0px 1px 2px rgba(60, 64, 67, 0.3), 0px 1px 3px 1px rgba(60, 64, 67, 0.15);\n",
              "      fill: #174EA6;\n",
              "    }\n",
              "\n",
              "    [theme=dark] .colab-df-convert {\n",
              "      background-color: #3B4455;\n",
              "      fill: #D2E3FC;\n",
              "    }\n",
              "\n",
              "    [theme=dark] .colab-df-convert:hover {\n",
              "      background-color: #434B5C;\n",
              "      box-shadow: 0px 1px 3px 1px rgba(0, 0, 0, 0.15);\n",
              "      filter: drop-shadow(0px 1px 2px rgba(0, 0, 0, 0.3));\n",
              "      fill: #FFFFFF;\n",
              "    }\n",
              "  </style>\n",
              "\n",
              "      <script>\n",
              "        const buttonEl =\n",
              "          document.querySelector('#df-5b3d5547-6b4a-499d-a705-8619977cc329 button.colab-df-convert');\n",
              "        buttonEl.style.display =\n",
              "          google.colab.kernel.accessAllowed ? 'block' : 'none';\n",
              "\n",
              "        async function convertToInteractive(key) {\n",
              "          const element = document.querySelector('#df-5b3d5547-6b4a-499d-a705-8619977cc329');\n",
              "          const dataTable =\n",
              "            await google.colab.kernel.invokeFunction('convertToInteractive',\n",
              "                                                     [key], {});\n",
              "          if (!dataTable) return;\n",
              "\n",
              "          const docLinkHtml = 'Like what you see? Visit the ' +\n",
              "            '<a target=\"_blank\" href=https://colab.research.google.com/notebooks/data_table.ipynb>data table notebook</a>'\n",
              "            + ' to learn more about interactive tables.';\n",
              "          element.innerHTML = '';\n",
              "          dataTable['output_type'] = 'display_data';\n",
              "          await google.colab.output.renderOutput(dataTable, element);\n",
              "          const docLink = document.createElement('div');\n",
              "          docLink.innerHTML = docLinkHtml;\n",
              "          element.appendChild(docLink);\n",
              "        }\n",
              "      </script>\n",
              "    </div>\n",
              "  </div>\n",
              "  "
            ]
          },
          "metadata": {},
          "execution_count": 10
        }
      ]
    },
    {
      "cell_type": "markdown",
      "metadata": {
        "id": "mLY_SFxwNPHg"
      },
      "source": [
        "The `describe()` function runs a simple statistical analysis (count, mean, standard deviation, minimum, maximum, etc) on the data-set "
      ]
    },
    {
      "cell_type": "markdown",
      "metadata": {
        "id": "VamWaW7XawTg"
      },
      "source": [
        "**Step 5: Run the Project per the Instructions** <br>\n"
      ]
    }
  ]
}